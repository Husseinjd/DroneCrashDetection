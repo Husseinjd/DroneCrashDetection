{
 "cells": [
  {
   "cell_type": "code",
   "execution_count": 1,
   "metadata": {},
   "outputs": [],
   "source": [
    "import pandas as pd\n",
    "import numpy as np\n",
    "import os\n",
    "import sys\n",
    "from matplotlib.lines import Line2D\n",
    "import time\n",
    "import matplotlib.pyplot as plt\n",
    "import warnings\n",
    "import seaborn as sns\n",
    "warnings.filterwarnings('ignore')\n",
    "module_path = os.path.abspath(os.path.join('..'))\n",
    "if module_path not in sys.path:\n",
    "    sys.path.append(module_path)\n",
    "%load_ext autoreload\n",
    "%autoreload 2\n",
    "from db.database import DatabaseConnector\n",
    "from dtloader.dataloader import DataLoader\n",
    "from utils.utils import *\n",
    "from segmentation.segmentation import Segmentation\n",
    "from sklearn import preprocessing\n",
    "path = '../stats_files/'"
   ]
  },
  {
   "cell_type": "code",
   "execution_count": 2,
   "metadata": {},
   "outputs": [
    {
     "name": "stdout",
     "output_type": "stream",
     "text": [
      "mongodb://localhost:27017/\n",
      "Database connected\n"
     ]
    }
   ],
   "source": [
    "dt = DataLoader()\n",
    "dt.load('../sample_testing/sample2.log')\n",
    "dt.extractinfo(export=True,single_file=False)"
   ]
  },
  {
   "cell_type": "code",
   "execution_count": 3,
   "metadata": {},
   "outputs": [],
   "source": [
    "df = pd.DataFrame(dt.dbconnector.query('RCIN_sample_testing/sample2'))"
   ]
  },
  {
   "cell_type": "code",
   "execution_count": 4,
   "metadata": {},
   "outputs": [
    {
     "data": {
      "text/html": [
       "<div>\n",
       "<style scoped>\n",
       "    .dataframe tbody tr th:only-of-type {\n",
       "        vertical-align: middle;\n",
       "    }\n",
       "\n",
       "    .dataframe tbody tr th {\n",
       "        vertical-align: top;\n",
       "    }\n",
       "\n",
       "    .dataframe thead th {\n",
       "        text-align: right;\n",
       "    }\n",
       "</style>\n",
       "<table border=\"1\" class=\"dataframe\">\n",
       "  <thead>\n",
       "    <tr style=\"text-align: right;\">\n",
       "      <th></th>\n",
       "      <th>_id</th>\n",
       "      <th>TimeUS</th>\n",
       "      <th>C1</th>\n",
       "      <th>C2</th>\n",
       "      <th>C3</th>\n",
       "      <th>C4</th>\n",
       "      <th>C5</th>\n",
       "      <th>C6</th>\n",
       "      <th>C7</th>\n",
       "      <th>C8</th>\n",
       "      <th>C9</th>\n",
       "      <th>C10</th>\n",
       "      <th>C11</th>\n",
       "      <th>C12</th>\n",
       "      <th>RCIN_0</th>\n",
       "      <th>RCIN_1</th>\n",
       "      <th>lineIndex</th>\n",
       "    </tr>\n",
       "  </thead>\n",
       "  <tbody>\n",
       "    <tr>\n",
       "      <th>0</th>\n",
       "      <td>5cfd4a85048d2b431094bd23</td>\n",
       "      <td>216175259</td>\n",
       "      <td>1496</td>\n",
       "      <td>1488</td>\n",
       "      <td>1076</td>\n",
       "      <td>1480</td>\n",
       "      <td>1034</td>\n",
       "      <td>1801</td>\n",
       "      <td>982</td>\n",
       "      <td>982</td>\n",
       "      <td>1076</td>\n",
       "      <td>982</td>\n",
       "      <td>982</td>\n",
       "      <td>1494</td>\n",
       "      <td>1494</td>\n",
       "      <td>1494</td>\n",
       "      <td>604</td>\n",
       "    </tr>\n",
       "    <tr>\n",
       "      <th>1</th>\n",
       "      <td>5cfd4a85048d2b431094bd23</td>\n",
       "      <td>216276783</td>\n",
       "      <td>1496</td>\n",
       "      <td>1488</td>\n",
       "      <td>1076</td>\n",
       "      <td>1480</td>\n",
       "      <td>1034</td>\n",
       "      <td>1801</td>\n",
       "      <td>982</td>\n",
       "      <td>982</td>\n",
       "      <td>1076</td>\n",
       "      <td>982</td>\n",
       "      <td>982</td>\n",
       "      <td>1494</td>\n",
       "      <td>1494</td>\n",
       "      <td>1494</td>\n",
       "      <td>638</td>\n",
       "    </tr>\n",
       "    <tr>\n",
       "      <th>2</th>\n",
       "      <td>5cfd4a85048d2b431094bd23</td>\n",
       "      <td>216376533</td>\n",
       "      <td>1496</td>\n",
       "      <td>1488</td>\n",
       "      <td>1076</td>\n",
       "      <td>1480</td>\n",
       "      <td>1034</td>\n",
       "      <td>1801</td>\n",
       "      <td>982</td>\n",
       "      <td>982</td>\n",
       "      <td>1076</td>\n",
       "      <td>982</td>\n",
       "      <td>982</td>\n",
       "      <td>1494</td>\n",
       "      <td>1494</td>\n",
       "      <td>1494</td>\n",
       "      <td>661</td>\n",
       "    </tr>\n",
       "    <tr>\n",
       "      <th>3</th>\n",
       "      <td>5cfd4a85048d2b431094bd23</td>\n",
       "      <td>216476746</td>\n",
       "      <td>1496</td>\n",
       "      <td>1488</td>\n",
       "      <td>1076</td>\n",
       "      <td>1480</td>\n",
       "      <td>1034</td>\n",
       "      <td>1801</td>\n",
       "      <td>982</td>\n",
       "      <td>982</td>\n",
       "      <td>1076</td>\n",
       "      <td>982</td>\n",
       "      <td>982</td>\n",
       "      <td>1494</td>\n",
       "      <td>1494</td>\n",
       "      <td>1494</td>\n",
       "      <td>686</td>\n",
       "    </tr>\n",
       "    <tr>\n",
       "      <th>4</th>\n",
       "      <td>5cfd4a85048d2b431094bd23</td>\n",
       "      <td>216576692</td>\n",
       "      <td>1496</td>\n",
       "      <td>1488</td>\n",
       "      <td>1076</td>\n",
       "      <td>1479</td>\n",
       "      <td>1034</td>\n",
       "      <td>1801</td>\n",
       "      <td>982</td>\n",
       "      <td>982</td>\n",
       "      <td>1076</td>\n",
       "      <td>982</td>\n",
       "      <td>982</td>\n",
       "      <td>1494</td>\n",
       "      <td>1494</td>\n",
       "      <td>1494</td>\n",
       "      <td>709</td>\n",
       "    </tr>\n",
       "  </tbody>\n",
       "</table>\n",
       "</div>"
      ],
      "text/plain": [
       "                        _id     TimeUS    C1    C2    C3    C4    C5    C6  \\\n",
       "0  5cfd4a85048d2b431094bd23  216175259  1496  1488  1076  1480  1034  1801   \n",
       "1  5cfd4a85048d2b431094bd23  216276783  1496  1488  1076  1480  1034  1801   \n",
       "2  5cfd4a85048d2b431094bd23  216376533  1496  1488  1076  1480  1034  1801   \n",
       "3  5cfd4a85048d2b431094bd23  216476746  1496  1488  1076  1480  1034  1801   \n",
       "4  5cfd4a85048d2b431094bd23  216576692  1496  1488  1076  1479  1034  1801   \n",
       "\n",
       "    C7   C8    C9  C10  C11   C12  RCIN_0  RCIN_1  lineIndex  \n",
       "0  982  982  1076  982  982  1494    1494    1494        604  \n",
       "1  982  982  1076  982  982  1494    1494    1494        638  \n",
       "2  982  982  1076  982  982  1494    1494    1494        661  \n",
       "3  982  982  1076  982  982  1494    1494    1494        686  \n",
       "4  982  982  1076  982  982  1494    1494    1494        709  "
      ]
     },
     "execution_count": 4,
     "metadata": {},
     "output_type": "execute_result"
    }
   ],
   "source": [
    "df.head()"
   ]
  },
  {
   "cell_type": "code",
   "execution_count": 10,
   "metadata": {
    "scrolled": false
   },
   "outputs": [
    {
     "data": {
      "image/png": "[encoded data removed]",
      "text/plain": [
       "<Figure size 1440x720 with 1 Axes>"
      ]
     },
     "metadata": {},
     "output_type": "display_data"
    }
   ],
   "source": [
    "# runvsg = []\n",
    "fig, ax = plt.subplots(figsize=(20,10))\n",
    "ax.set_xlim()\n",
    "# for i,gr in enumerate(np.arange(0,2,0.5)):\n",
    "start_time = time.time()\n",
    "sg = Segmentation(1)\n",
    "comp ='CTUN'\n",
    "va = 'ThrOut'\n",
    "fitmethod= 'inter'\n",
    "sgmethod = 'td'\n",
    "sr = dt.dbconnector.query(comp+'_sample_testing/sample2',va)\n",
    "sig_length = len(sr)\n",
    "rng = dt.dbconnector.query(comp+'_sample_testing/sample2','lineIndex')\n",
    "sg.segment(sr,seg_method=sgmethod,fit_method=fitmethod,save_seginstance=False,err_growth=0.5,batch=True,batch_size=10)\n",
    "#print('Signal Run Time: {} , Growth Rate: {}'.format( time.time() - start_time,gr))\n",
    "#     runvsg.append( time.time() - start_time)\n",
    "#plt.subplot(2, 2, i+1)\n",
    "sg.draw_plot(comp)#+'-'+comp+'_'+va)\n",
    "rl, idx = sg.find_maxratio()\n",
    "sg.draw_segments(highlight_idx = None)\n",
    "plt.title(comp+'_'+va)\n",
    "plt.show()\n",
    "    #plt.savefig('../report/phase3/'+comp+'_'+va+'_'+sgmethod+'_'+fitmethod+'.png', dpi=500)"
   ]
  },
  {
   "cell_type": "code",
   "execution_count": null,
   "metadata": {},
   "outputs": [],
   "source": [
    "sg.segments[idx]"
   ]
  },
  {
   "cell_type": "code",
   "execution_count": null,
   "metadata": {},
   "outputs": [],
   "source": [
    "l = list(np.arange(0,2,0.5))\n",
    "sns.lineplot(x=l,y=runvsg)\n",
    "plt.title('Run Time vs Growth Rate')\n",
    "plt.xlabel('Error Growth Rate')\n",
    "plt.ylabel('RunTime sec')\n",
    "plt.show()"
   ]
  },
  {
   "cell_type": "code",
   "execution_count": null,
   "metadata": {},
   "outputs": [],
   "source": [
    "datalist =os.listdir('../data')\n",
    "#added to the 100 variables\n",
    "vardict = load_top100_dict()\n",
    "vardict['RCOU'] = ['RCOU_Ch1','RCOU_Ch2','RCOU_Ccmdh3','RCOU_Ch4']"
   ]
  },
  {
   "cell_type": "code",
   "execution_count": null,
   "metadata": {},
   "outputs": [],
   "source": [
    "dbc = DatabaseConnector('segdb','27017')"
   ]
  },
  {
   "cell_type": "code",
   "execution_count": null,
   "metadata": {},
   "outputs": [],
   "source": [
    "loader = DataLoader()"
   ]
  },
  {
   "cell_type": "code",
   "execution_count": null,
   "metadata": {},
   "outputs": [],
   "source": [
    "existing_collections = dbc.mydb.list_collection_names()\n",
    "sg = Segmentation(0.5)\n",
    "insert_data = True\n",
    "check_insert =True\n",
    "normalize = False\n",
    "batch_size = 70\n",
    "#------------------------------------------\n",
    "time_list = []\n",
    "fitmethod= 'inter'\n",
    "sgmethod = 'td'\n",
    "for i,log in enumerate(datalist):\n",
    "    start_time = time.time()\n",
    "    print('File:{} --  {} / {}'.format(log,i,len(datalist)-1))\n",
    "    for k,v in vardict.items():\n",
    "        res = loader.dbconnector.query(k+'_'+log[:-4]) #find signals in the log files \n",
    "        if res != -1: #data exists\n",
    "                df = pd.DataFrame(res)\n",
    "                df_size = len(df)\n",
    "                print('Processing Component: {}.. Length: {}'.format(k,df_size))\n",
    "                if df_size <= 5:\n",
    "                    continue\n",
    "                for val in list(set(df.columns).intersection(v)): #loop through the signals\n",
    "                    cname = 'seg_'+k+'_'+val+'_'+log[:-4]\n",
    "                    if cname in existing_collections:\n",
    "                        continue\n",
    "                    #print('        Signal: {}..'.format(val,df_size))\n",
    "                    if not np.issubdtype(df[val].dtype, np.number):\n",
    "                            cat_to_int(df,val)\n",
    "                    if normalize:\n",
    "                        srval = preprocessing.scale(df[val])\n",
    "                    else:\n",
    "                        srval = df[val]\n",
    "                    list_segments = sg.segment(srval,seg_method=sgmethod,fit_method=fitmethod,\n",
    "                                               save_seginstance=False,err_growth =0.1,batch_size=batch_size)\n",
    "                    if isinstance(list_segments,int):\n",
    "                        print('error in segments ', list_segments)\n",
    "                        continue\n",
    "                    #export list_segments into a collection\n",
    "                    if insert_data:\n",
    "                            if cname not in existing_collections:\n",
    "                                time_list.append(time.time() - start_time)\n",
    "                            dbc.set_collection(cname)\n",
    "                            resp = dbc.insert_dict(pd.DataFrame(list_segments,columns=['x1','y1','x2','y2']).to_dict('list'))\n",
    "                            if resp == -1:\n",
    "                                print('Dict insert error in file : {}'.format(log[:-4]))\n",
    "    print('File Run Time: ', time.time() - start_time)"
   ]
  },
  {
   "cell_type": "code",
   "execution_count": null,
   "metadata": {},
   "outputs": [],
   "source": [
    "dbc.mydb.list_collection_names()"
   ]
  },
  {
   "cell_type": "code",
   "execution_count": 12,
   "metadata": {},
   "outputs": [
    {
     "data": {
      "text/plain": [
       "array([ 1,  1,  1, -1,  0, -1])"
      ]
     },
     "execution_count": 12,
     "metadata": {},
     "output_type": "execute_result"
    }
   ],
   "source": [
    "np.array([1,1,1,-1,0,-1])"
   ]
  },
  {
   "cell_type": "code",
   "execution_count": null,
   "metadata": {},
   "outputs": [],
   "source": []
  }
 ],
 "metadata": {
  "kernelspec": {
   "display_name": "Python 3",
   "language": "python",
   "name": "python3"
  },
  "language_info": {
   "codemirror_mode": {
    "name": "ipython",
    "version": 3
   },
   "file_extension": ".py",
   "mimetype": "text/x-python",
   "name": "python",
   "nbconvert_exporter": "python",
   "pygments_lexer": "ipython3",
   "version": "3.6.5"
  },
  "varInspector": {
   "cols": {
    "lenName": 16,
    "lenType": 16,
    "lenVar": 40
   },
   "kernels_config": {
    "python": {
     "delete_cmd_postfix": "",
     "delete_cmd_prefix": "del ",
     "library": "var_list.py",
     "varRefreshCmd": "print(var_dic_list())"
    },
    "r": {
     "delete_cmd_postfix": ") ",
     "delete_cmd_prefix": "rm(",
     "library": "var_list.r",
     "varRefreshCmd": "cat(var_dic_list()) "
    }
   },
   "types_to_exclude": [
    "module",
    "function",
    "builtin_function_or_method",
    "instance",
    "_Feature"
   ],
   "window_display": false
  }
 },
 "nbformat": 4,
 "nbformat_minor": 2
}
