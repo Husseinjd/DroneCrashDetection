{
 "cells": [
  {
   "cell_type": "code",
   "execution_count": 1,
   "metadata": {},
   "outputs": [],
   "source": [
    "import pandas as pd\n",
    "import numpy as np\n",
    "import os\n",
    "import sys\n",
    "import time\n",
    "import matplotlib.pyplot as plt\n",
    "import warnings\n",
    "import seaborn as sns\n",
    "warnings.filterwarnings('ignore')\n",
    "module_path = os.path.abspath(os.path.join('..'))\n",
    "if module_path not in sys.path:\n",
    "    sys.path.append(module_path)\n",
    "%load_ext autoreload\n",
    "%autoreload 2\n",
    "from db.database import DatabaseConnector\n",
    "from dtloader.dataloader import DataLoader\n",
    "from utils.utils import *\n",
    "from segmentation.segmentation import Segmentation\n",
    "from sklearn import preprocessing\n",
    "path = '../stats_files/'"
   ]
  },
  {
   "cell_type": "code",
   "execution_count": null,
   "metadata": {},
   "outputs": [],
   "source": [
    "dt = DataLoader()\n",
    "dt.load('../sample_testing/sample2.log')\n",
    "dt.extractinfo(export=False,single_file=False)"
   ]
  },
  {
   "cell_type": "code",
   "execution_count": null,
   "metadata": {},
   "outputs": [],
   "source": [
    "sg = Segmentation(0.3)\n",
    "comp ='GPS'\n",
    "va = 'RAlt'\n",
    "fitmethod= 'inter'\n",
    "sgmethod = 'td'\n",
    "sr = dt.dbconnector.query(comp+'_sample_testing/sample2',va)\n",
    "rng = dt.dbconnector.query(comp+'_sample_testing/sample2','lineIndex')\n",
    "sg.segment(preprocessing.scale(sr),seg_method=sgmethod,fit_method=fitmethod,save_seginstance=False)\n",
    "plt.figure(figsize=(12,6))\n",
    "sg.draw_plot(comp+'_'+va)\n",
    "sg.draw_segments()\n",
    "plt.show()\n",
    "#plt.savefig('../report/phase3/'+comp+'_'+va+'_'+sgmethod+'_'+fitmethod+'.png', dpi=500)"
   ]
  },
  {
   "cell_type": "code",
   "execution_count": 2,
   "metadata": {},
   "outputs": [],
   "source": [
    "datalist =os.listdir('../data')\n",
    "#added to the 100 variables\n",
    "vardict = load_top100_dict()\n",
    "vardict['RCOU'] = ['RCOU_Ch1','RCOU_Ch2','RCOU_Ccmdh3','RCOU_Ch4']"
   ]
  },
  {
   "cell_type": "code",
   "execution_count": null,
   "metadata": {},
   "outputs": [
    {
     "name": "stdout",
     "output_type": "stream",
     "text": [
      "mongodb://localhost:27017/\n",
      "Database connected\n",
      "mongodb://localhost:27017/\n",
      "Database connected\n",
      "File:568c058bb560505c22dc402c.log --  0 / 2607\n",
      "Processing Component: MODE..\n",
      "Processing Component: GPS..\n",
      "Processing Component: DU32..\n",
      "Processing Component: ATT..\n"
     ]
    }
   ],
   "source": [
    "dbc = DatabaseConnector('segdb','27017')\n",
    "loader = DataLoader()\n",
    "sg = Segmentation(1)\n",
    "fitmethod= 'inter'\n",
    "sgmethod = 'bu'\n",
    "for i,log in enumerate(datalist):\n",
    "    start_time = time.time()\n",
    "    print('File:{} --  {} / {}'.format(log,i,len(datalist)-1))\n",
    "    for k,v in vardict.items():\n",
    "        print('Processing Component: {}..'.format(k))\n",
    "        res = loader.dbconnector.query(k+'_'+log[:-4]) #find signals in the log files \n",
    "        if res != -1: #data exists\n",
    "                df = pd.DataFrame(res)\n",
    "                if len(df) < 5:\n",
    "                    continue\n",
    "                #check for each value if it is stationary or not\n",
    "                for val in list(set(df.columns).intersection(v)): #loop through the signals\n",
    "                    if not np.issubdtype(df[val].dtype, np.number):\n",
    "                            cat_to_int(df,val)\n",
    "                    list_segments = sg.segment(preprocessing.scale(df[val]),seg_method=sgmethod,fit_method=fitmethod,save_seginstance=False)\n",
    "                    if isinstance(list_segments,int):\n",
    "                        continue\n",
    "                    #export list_segments into a collection\n",
    "                    dbc.set_collection('seg_'+k+'_'+val+'_'+log[:-4])\n",
    "                    resp = dbc.insert_dict(pd.DataFrame(list_segments,columns=['x1','y1','x2','y2']).to_dict('list'))\n",
    "                    if resp == -1:\n",
    "                        print('Dict insert error in file : {}'.format(log[:-4]))\n",
    "    print('File Run Time: ', time.time() - start_time)\n",
    "dbc.close_connection()"
   ]
  },
  {
   "cell_type": "raw",
   "metadata": {},
   "source": []
  },
  {
   "cell_type": "code",
   "execution_count": null,
   "metadata": {},
   "outputs": [],
   "source": []
  }
 ],
 "metadata": {
  "kernelspec": {
   "display_name": "Python 3",
   "language": "python",
   "name": "python3"
  },
  "language_info": {
   "codemirror_mode": {
    "name": "ipython",
    "version": 3
   },
   "file_extension": ".py",
   "mimetype": "text/x-python",
   "name": "python",
   "nbconvert_exporter": "python",
   "pygments_lexer": "ipython3",
   "version": "3.6.5"
  },
  "varInspector": {
   "cols": {
    "lenName": 16,
    "lenType": 16,
    "lenVar": 40
   },
   "kernels_config": {
    "python": {
     "delete_cmd_postfix": "",
     "delete_cmd_prefix": "del ",
     "library": "var_list.py",
     "varRefreshCmd": "print(var_dic_list())"
    },
    "r": {
     "delete_cmd_postfix": ") ",
     "delete_cmd_prefix": "rm(",
     "library": "var_list.r",
     "varRefreshCmd": "cat(var_dic_list()) "
    }
   },
   "types_to_exclude": [
    "module",
    "function",
    "builtin_function_or_method",
    "instance",
    "_Feature"
   ],
   "window_display": false
  }
 },
 "nbformat": 4,
 "nbformat_minor": 2
}
