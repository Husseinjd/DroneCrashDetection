{
 "cells": [
  {
   "cell_type": "code",
   "execution_count": null,
   "metadata": {},
   "outputs": [],
   "source": [
    "import pandas as pd\n",
    "import numpy as np\n",
    "import matplotlib.pyplot as plt\n",
    "import os\n",
    "import networkx as nx\n",
    "import time\n",
    "import sys\n",
    "import warnings\n",
    "warnings.filterwarnings('ignore')\n",
    "module_path = os.path.abspath(os.path.join('..'))\n",
    "if module_path not in sys.path:\n",
    "    sys.path.append(module_path)\n",
    "%load_ext autoreload\n",
    "%autoreload 2\n",
    "from db.database import DatabaseConnector\n",
    "from dtloader.dataloader import DataLoader\n",
    "from failure_detector import *\n",
    "from utils.utils import *"
   ]
  },
  {
   "cell_type": "code",
   "execution_count": null,
   "metadata": {},
   "outputs": [],
   "source": [
    "dl = DataLoader()\n",
    "dl.load('sample.log')\n",
    "dl.extractinfo(export=False,single_file=True)"
   ]
  },
  {
   "cell_type": "markdown",
   "metadata": {},
   "source": [
    "# Sample Log Analysis"
   ]
  },
  {
   "cell_type": "code",
   "execution_count": null,
   "metadata": {},
   "outputs": [],
   "source": [
    "ts = {'RCIN':['C1','C2','C3','C4'] ,'AHR2':['Roll','Pitch','Alt','Yaw']}\n",
    "df,df_corr = corr_var('sample.log',dl,ts)\n",
    "df_corr.iloc[4:,:4]"
   ]
  },
  {
   "cell_type": "code",
   "execution_count": null,
   "metadata": {},
   "outputs": [],
   "source": [
    "ts = {'MODE':['Mode'] ,'ERR':['Subsys']}\n",
    "df,df_corr = corr_var('sample.log',dl,ts)\n",
    "df_corr"
   ]
  },
  {
   "cell_type": "markdown",
   "metadata": {},
   "source": [
    "# All Logs - Mean Correlation - RCIN : AHR2"
   ]
  },
  {
   "cell_type": "code",
   "execution_count": null,
   "metadata": {},
   "outputs": [],
   "source": [
    "datalist =os.listdir('../data')"
   ]
  },
  {
   "cell_type": "code",
   "execution_count": null,
   "metadata": {
    "scrolled": true
   },
   "outputs": [],
   "source": [
    "ts = {'RCIN':['C1','C2','C3','C4'] ,'AHR2':['Roll','Pitch','Alt','Yaw']}\n",
    "print('File:{} --  {} / {}'.format(datalist[0],0,len(datalist)-1))\n",
    "d,df_cnc = corr_var(datalist[0][:-4],ts)\n",
    "df_cnc = df_cnc.iloc[4:,:4]\n",
    "count_list = []\n",
    "for i,log in enumerate(datalist[1:]):\n",
    "    print('File:{} --  {} / {}'.format(log,i+1,len(datalist)-1))\n",
    "    count_novalues,df_corr = corr_var(log[:-4],dl,ts)\n",
    "    df_cnc = pd.concat((df_cnc, df_corr.iloc[4:,:4]))\n",
    "    count_list.append(count_novalues)\n",
    "#compute the Mean \n",
    "by_row_index = df_cnc.groupby(df_cnc.index)\n",
    "df_means = by_row_index.mean()\n",
    "df_means"
   ]
  },
  {
   "cell_type": "code",
   "execution_count": null,
   "metadata": {},
   "outputs": [],
   "source": [
    "df_means.dropna(axis=1,how='all')"
   ]
  },
  {
   "cell_type": "code",
   "execution_count": null,
   "metadata": {},
   "outputs": [],
   "source": [
    "print('Mean Number of variables not found in log files : ',np.mean(count_list))"
   ]
  },
  {
   "cell_type": "markdown",
   "metadata": {},
   "source": [
    "# Top 100 Variables Correlation Table"
   ]
  },
  {
   "cell_type": "code",
   "execution_count": null,
   "metadata": {},
   "outputs": [],
   "source": [
    "df = load_top100()\n",
    "#put the var in the right form for the method input\n",
    "vardict = load_top100_dict()"
   ]
  },
  {
   "cell_type": "code",
   "execution_count": null,
   "metadata": {
    "scrolled": true
   },
   "outputs": [],
   "source": [
    "#Creating 100x100 correlation table\n",
    "start_time = time.time()\n",
    "df_cnc= pd.DataFrame({'temp':[0]}) #init table\n",
    "for i,log in enumerate(datalist):\n",
    "    print('File:{} --  {} / {}'.format(log,i,len(datalist)-1))\n",
    "    _,df_corr = corr_var(log[:-4],dl,vardict)\n",
    "    df_cnc = pd.concat((df_cnc, df_corr))\n",
    "by_row_index = df_cnc.groupby(df_cnc.index)\n",
    "df_means = by_row_index.mean()\n",
    "df_means.drop([0],inplace=True)\n",
    "df_means.drop('temp',axis=1,inplace=True)\n",
    "print('Time Taken to load correlation Table :',time.time() - start_time)\n",
    "print(df_means.shape)"
   ]
  },
  {
   "cell_type": "code",
   "execution_count": null,
   "metadata": {},
   "outputs": [],
   "source": [
    "print(len(df_means))\n",
    "np.setdiff1d(df['name'],df_means.columns)"
   ]
  },
  {
   "cell_type": "code",
   "execution_count": null,
   "metadata": {},
   "outputs": [],
   "source": [
    "df_means.to_csv('corr_table.csv')"
   ]
  },
  {
   "cell_type": "markdown",
   "metadata": {},
   "source": [
    "## Graphing Network"
   ]
  },
  {
   "cell_type": "code",
   "execution_count": null,
   "metadata": {},
   "outputs": [],
   "source": [
    "dt = {}\n",
    "threshold_corr = 0.6\n",
    "for c in df_means.columns:\n",
    "    idx = abs(df_means.loc[c,:]) >= threshold_corr\n",
    "    df_means.columns[idx]\n",
    "    dt[c] = df_means.columns[idx]"
   ]
  },
  {
   "cell_type": "code",
   "execution_count": null,
   "metadata": {},
   "outputs": [],
   "source": [
    "def graph_generator(edges_dict):\n",
    "        \"\"\"\n",
    "        A single graoh generator based on networkx\n",
    "        :param nodes_list: The list of nodes. A simple list with strings for node names.\n",
    "        :param edges_dict: A dict containing every node as key and a list containing other nodes as value. The key\n",
    "        will be connected to the nodes in the value.\n",
    "        \"\"\"\n",
    "        nodes_list = edges_dict.keys()\n",
    "        plt.figure(figsize=(15,12)) \n",
    "        plt.clf()\n",
    "        plt.axis(\"off\")\n",
    "        G = nx.Graph()\n",
    "        for key in nodes_list:\n",
    "            G.add_node(key)\n",
    "\n",
    "        for key in edges_dict.keys():\n",
    "            connect_to = edges_dict[key]\n",
    "            for node in connect_to:\n",
    "                G.add_edge(key, node)\n",
    "        pos = nx.spring_layout(G)\n",
    "        labels = {}\n",
    "        G.remove_edges_from(nx.selfloop_edges(G))\n",
    "        all_nodes = G.nodes\n",
    "        for key in all_nodes:\n",
    "            labels[key] = key\n",
    "\n",
    "        nx.draw_networkx_labels(G, pos, labels, font_size=8)\n",
    "        nx.draw(G, pos, font_size=1)\n",
    "        \n",
    "        plt.title(\"Correlation Graph\")\n",
    "        plt.show()"
   ]
  },
  {
   "cell_type": "code",
   "execution_count": null,
   "metadata": {},
   "outputs": [],
   "source": [
    "graph_generator(dt)"
   ]
  }
 ],
 "metadata": {
  "kernelspec": {
   "display_name": "Python 3",
   "language": "python",
   "name": "python3"
  },
  "language_info": {
   "codemirror_mode": {
    "name": "ipython",
    "version": 3
   },
   "file_extension": ".py",
   "mimetype": "text/x-python",
   "name": "python",
   "nbconvert_exporter": "python",
   "pygments_lexer": "ipython3",
   "version": "3.6.5"
  }
 },
 "nbformat": 4,
 "nbformat_minor": 2
}
