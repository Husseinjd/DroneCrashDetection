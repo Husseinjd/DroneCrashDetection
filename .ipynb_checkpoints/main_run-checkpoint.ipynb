{
 "cells": [
  {
   "cell_type": "code",
   "execution_count": 1,
   "metadata": {},
   "outputs": [],
   "source": [
    "import os\n",
    "import time\n",
    "from dataloader import DataLoader\n",
    "from failure_detector.failuredetector import FailureDetector\n",
    "import glob\n",
    "import numpy as np\n",
    "import pandas as pd\n",
    "%load_ext autoreload\n",
    "%autoreload 2"
   ]
  },
  {
   "cell_type": "code",
   "execution_count": 2,
   "metadata": {},
   "outputs": [],
   "source": [
    "datalist =os.listdir('data')"
   ]
  },
  {
   "cell_type": "code",
   "execution_count": 3,
   "metadata": {},
   "outputs": [
    {
     "name": "stdout",
     "output_type": "stream",
     "text": [
      "mongodb://localhost:27017/\n",
      "Database connected\n"
     ]
    }
   ],
   "source": [
    "loader = DataLoader()"
   ]
  },
  {
   "cell_type": "code",
   "execution_count": null,
   "metadata": {
    "scrolled": true
   },
   "outputs": [],
   "source": [
    "timelist = []\n",
    "for i,log in enumerate(datalist):\n",
    "    print('File:{} --  {} / {}'.format(log,i+1,len(datalist)-1))\n",
    "    start_time = time.time()\n",
    "    res = loader.load('data/'+log)\n",
    "    if res == 1:\n",
    "        loader.extractinfo(export=True)\n",
    "#     if i == 20:\n",
    "#         break\n",
    "    timelist.append(time.time() - start_time)\n",
    "loader.dbconnector.close_connection()"
   ]
  },
  {
   "cell_type": "code",
   "execution_count": null,
   "metadata": {},
   "outputs": [],
   "source": [
    "print('Total Time: {} s'.format(sum(timelist)))\n",
    "print('Mean Time per log {}'.format(np.mean(timelist)))"
   ]
  },
  {
   "cell_type": "code",
   "execution_count": null,
   "metadata": {},
   "outputs": [],
   "source": [
    "loader.dbconnector.dropdb('vardb')"
   ]
  },
  {
   "cell_type": "code",
   "execution_count": null,
   "metadata": {},
   "outputs": [],
   "source": []
  },
  {
   "cell_type": "code",
   "execution_count": null,
   "metadata": {
    "scrolled": true
   },
   "outputs": [],
   "source": [
    "#Failure Detection per variable\n",
    "#loop through variables and check for the failures\n",
    "fd = FailureDetector()\n",
    "for i,fname in enumerate(datalist):\n",
    "    print('File:{} --  {} / {}'.format(fname,i+1,len(datalist)-1))\n",
    "    df = fd.detectFailures(fname[:-4],False)\n",
    "     if i == 2 :\n",
    "#         break\n",
    "fd.closeconn()"
   ]
  },
  {
   "cell_type": "code",
   "execution_count": null,
   "metadata": {},
   "outputs": [],
   "source": [
    "fd.full_failure_table.head(20)"
   ]
  },
  {
   "cell_type": "code",
   "execution_count": null,
   "metadata": {},
   "outputs": [],
   "source": []
  }
 ],
 "metadata": {
  "kernelspec": {
   "display_name": "Python 3",
   "language": "python",
   "name": "python3"
  },
  "language_info": {
   "codemirror_mode": {
    "name": "ipython",
    "version": 3
   },
   "file_extension": ".py",
   "mimetype": "text/x-python",
   "name": "python",
   "nbconvert_exporter": "python",
   "pygments_lexer": "ipython3",
   "version": "3.6.5"
  }
 },
 "nbformat": 4,
 "nbformat_minor": 2
}
