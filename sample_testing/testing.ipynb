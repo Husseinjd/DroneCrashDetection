{
 "cells": [
  {
   "cell_type": "code",
   "execution_count": null,
   "metadata": {},
   "outputs": [],
   "source": [
    "import pandas as pd\n",
    "import numpy as np\n",
    "import os\n",
    "import sys\n",
    "import matplotlib.pyplot as plt\n",
    "import networkx as nx\n",
    "import warnings\n",
    "import seaborn as sns\n",
    "warnings.filterwarnings('ignore')\n",
    "module_path = os.path.abspath(os.path.join('..'))\n",
    "if module_path not in sys.path:\n",
    "    sys.path.append(module_path)\n",
    "%load_ext autoreload\n",
    "%autoreload 2\n",
    "from db.database import DatabaseConnector\n",
    "from dtloader.dataloader import DataLoader\n",
    "from grangercausality_test import GrangerCausalityTest\n",
    "from statsmodels.tsa.stattools import grangercausalitytests\n",
    "from statsmodels.tsa.tsatools import lagmat2ds\n",
    "import statsmodels.api as sm\n",
    "from statsmodels.tools.tools import add_constant\n",
    "from scipy import stats\n",
    "from utils.utils import *\n",
    "from statsmodels.tsa.vector_ar.var_model import VAR\n",
    "path = '../stats_files/'"
   ]
  },
  {
   "cell_type": "code",
   "execution_count": null,
   "metadata": {},
   "outputs": [],
   "source": [
    "tb = os.listdir('../stats_files')\n",
    "tb"
   ]
  },
  {
   "cell_type": "code",
   "execution_count": null,
   "metadata": {},
   "outputs": [],
   "source": [
    "#load "
   ]
  },
  {
   "cell_type": "code",
   "execution_count": null,
   "metadata": {},
   "outputs": [],
   "source": []
  },
  {
   "cell_type": "code",
   "execution_count": null,
   "metadata": {},
   "outputs": [],
   "source": []
  },
  {
   "cell_type": "code",
   "execution_count": null,
   "metadata": {},
   "outputs": [],
   "source": [
    "df = pd.read_csv('../stats_files/full_causality_table.csv')\n",
    "df.set_index(df.columns[0],inplace=True)"
   ]
  },
  {
   "cell_type": "code",
   "execution_count": null,
   "metadata": {},
   "outputs": [],
   "source": [
    "DG = nx.DiGraph()\n",
    "DG.add_nodes_from(df.columns)\n",
    "for idx in df.index:\n",
    "    ltuples = [(idx,cl) for cl in df.columns[df.loc[idx] == 1] if cl != idx]\n",
    "    ltuples_bi = [(idx,cl) for cl in df.columns[df.loc[idx] == 2 ] if cl != idx] + [(cl,idx) for cl in df.columns[df.loc[idx] == 2 ] if cl != idx]\n",
    "    DG.add_edges_from(ltuples)\n",
    "    DG.add_edges_from(ltuples_bi)\n",
    "\n",
    "save_as_pickle(DG,'../stats_files','directed_networkx_graph.pickle') #saving the graph to be used later for analysis\n",
    "#create tuples\n",
    "pos = nx.spring_layout(DG,k=1,iterations=50)\n",
    "plt.figure(figsize=(20,10))\n",
    "nx.draw(DG,with_labels=True,font_size=9,pos=pos)\n",
    "plt.draw()\n",
    "plt.show()"
   ]
  },
  {
   "cell_type": "code",
   "execution_count": null,
   "metadata": {},
   "outputs": [],
   "source": [
    "stat_in_out = []\n",
    "for c in df.columns:\n",
    "    outgoing_count = len(DG.out_edges(c))\n",
    "    incoming_count = len(DG.in_edges(c))\n",
    "    stat_in_out.append((c,incoming_count,outgoing_count))\n",
    "df_inout = pd.DataFrame(stat_in_out,columns=['signal','incoming','outgoing'])"
   ]
  },
  {
   "cell_type": "code",
   "execution_count": null,
   "metadata": {},
   "outputs": [],
   "source": [
    "plt.figure(figsize=(20,15))\n",
    "g = sns.barplot(x='signal',y='incoming',data=df_inout.sort_values('incoming',ascending=False))\n",
    "g.set_xticklabels(labels=df_inout.sort_values('incoming',ascending=False).signal,rotation=90)\n",
    "plt.ylabel('Incoming Causes') \n",
    "plt.show()\n",
    "figure = g.get_figure()  \n",
    "figure.savefig('../report/incoming_causation.png', dpi=500)"
   ]
  },
  {
   "cell_type": "code",
   "execution_count": null,
   "metadata": {},
   "outputs": [],
   "source": [
    "plt.figure(figsize=(20,15))\n",
    "g = sns.barplot(x='signal',y='outgoing',data=df_inout.sort_values('outgoing',ascending=False))\n",
    "g.set_xticklabels(labels=df_inout.sort_values('outgoing',ascending=False).signal,rotation=90)\n",
    "plt.ylabel('Outgoing Causes')\n",
    "plt.show()\n",
    "figure = g.get_figure()  \n",
    "figure.savefig('../report/outgoing_causation.png', dpi=500)"
   ]
  },
  {
   "cell_type": "code",
   "execution_count": null,
   "metadata": {},
   "outputs": [],
   "source": [
    "df_inout.to_csv('../stats_files/causation_in_out_data.csv')"
   ]
  },
  {
   "cell_type": "markdown",
   "metadata": {},
   "source": [
    "# Time Analysis"
   ]
  },
  {
   "cell_type": "code",
   "execution_count": null,
   "metadata": {},
   "outputs": [],
   "source": [
    "tm = pd.read_csv(path+'causality_time_statistics.csv')\n",
    "tm = tm.sort_values('size MB',ascending=True).reset_index().drop(tm.columns[:2],axis=1)"
   ]
  },
  {
   "cell_type": "code",
   "execution_count": null,
   "metadata": {},
   "outputs": [],
   "source": [
    "tm.loc[len(tm)] = ('58c3e69a03d9b00f21696b11.log', 50.516817, 1349.1730382442474)"
   ]
  },
  {
   "cell_type": "code",
   "execution_count": null,
   "metadata": {},
   "outputs": [],
   "source": [
    "plt.figure(figsize=(12,6))\n",
    "sns.lineplot(y='duration s',x='size MB',data=tm)\n",
    "plt.ylabel('Seconds')\n",
    "plt.xlabel('MB')\n",
    "plt.title('Top 100 Causality Time Statistic')\n",
    "plt.show()"
   ]
  },
  {
   "cell_type": "code",
   "execution_count": null,
   "metadata": {},
   "outputs": [],
   "source": []
  }
 ],
 "metadata": {
  "kernelspec": {
   "display_name": "Python 3",
   "language": "python",
   "name": "python3"
  },
  "language_info": {
   "codemirror_mode": {
    "name": "ipython",
    "version": 3
   },
   "file_extension": ".py",
   "mimetype": "text/x-python",
   "name": "python",
   "nbconvert_exporter": "python",
   "pygments_lexer": "ipython3",
   "version": "3.6.5"
  }
 },
 "nbformat": 4,
 "nbformat_minor": 2
}
