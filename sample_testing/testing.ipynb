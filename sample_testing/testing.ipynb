{
 "cells": [
  {
   "cell_type": "code",
   "execution_count": 1,
   "metadata": {},
   "outputs": [],
   "source": [
    "import pandas as pd\n",
    "import numpy as np\n",
    "import os\n",
    "import sys\n",
    "import matplotlib.pyplot as plt\n",
    "import networkx as nx\n",
    "import warnings\n",
    "import seaborn as sns\n",
    "warnings.filterwarnings('ignore')\n",
    "module_path = os.path.abspath(os.path.join('..'))\n",
    "if module_path not in sys.path:\n",
    "    sys.path.append(module_path)\n",
    "%load_ext autoreload\n",
    "%autoreload 2\n",
    "from db.database import DatabaseConnector\n",
    "from dtloader.dataloader import DataLoader\n",
    "from grangercausality_test import GrangerCausalityTest\n",
    "from statsmodels.tsa.stattools import grangercausalitytests\n",
    "from statsmodels.tsa.tsatools import lagmat2ds\n",
    "import statsmodels.api as sm\n",
    "from statsmodels.tools.tools import add_constant\n",
    "from scipy import stats\n",
    "from utils.utils import *\n",
    "from statsmodels.tsa.vector_ar.var_model import VAR\n",
    "path = '../stats_files/'"
   ]
  },
  {
   "cell_type": "code",
   "execution_count": 2,
   "metadata": {},
   "outputs": [
    {
     "data": {
      "text/plain": [
       "['causality_time_statistics.csv',\n",
       " 'causation_in_out_data.csv',\n",
       " 'correlation_time_statistics.csv',\n",
       " 'corr_networkx_graph.pickle',\n",
       " 'corr_table.csv',\n",
       " 'directed_networkx_graph.pickle',\n",
       " 'failure_data.csv',\n",
       " 'full_causality_table.csv',\n",
       " 'full_causality_table_labeled.csv',\n",
       " 'stationary_percent.csv',\n",
       " 'top_100_variables.csv']"
      ]
     },
     "execution_count": 2,
     "metadata": {},
     "output_type": "execute_result"
    }
   ],
   "source": [
    "tb = os.listdir('../stats_files')\n",
    "tb"
   ]
  },
  {
   "cell_type": "code",
   "execution_count": 3,
   "metadata": {},
   "outputs": [],
   "source": [
    "df = pd.read_csv('../stats_files/full_causality_table.csv')\n",
    "df.set_index(df.columns[0],inplace=True)"
   ]
  },
  {
   "cell_type": "code",
   "execution_count": 4,
   "metadata": {},
   "outputs": [
    {
     "data": {
      "text/html": [
       "<div>\n",
       "<style scoped>\n",
       "    .dataframe tbody tr th:only-of-type {\n",
       "        vertical-align: middle;\n",
       "    }\n",
       "\n",
       "    .dataframe tbody tr th {\n",
       "        vertical-align: top;\n",
       "    }\n",
       "\n",
       "    .dataframe thead th {\n",
       "        text-align: right;\n",
       "    }\n",
       "</style>\n",
       "<table border=\"1\" class=\"dataframe\">\n",
       "  <thead>\n",
       "    <tr style=\"text-align: right;\">\n",
       "      <th></th>\n",
       "      <th>MODE_Mode</th>\n",
       "      <th>GPS_GCrs</th>\n",
       "      <th>GPS_Alt</th>\n",
       "      <th>GPS_NSats</th>\n",
       "      <th>GPS_Spd</th>\n",
       "      <th>GPS_Lat</th>\n",
       "      <th>GPS_Status</th>\n",
       "      <th>GPS_HDop</th>\n",
       "      <th>GPS_Lng</th>\n",
       "      <th>DU32_Id</th>\n",
       "      <th>...</th>\n",
       "      <th>RAD_RxErrors</th>\n",
       "      <th>RAD_RemNoise</th>\n",
       "      <th>RAD_Fixed</th>\n",
       "      <th>RAD_RSSI</th>\n",
       "      <th>RAD_Noise</th>\n",
       "      <th>RAD_TxBuf</th>\n",
       "      <th>RAD_RemRSSI</th>\n",
       "      <th>IMU_TimeMS</th>\n",
       "      <th>MAG_MagZ</th>\n",
       "      <th>MAG_OfsX</th>\n",
       "    </tr>\n",
       "    <tr>\n",
       "      <th>Unnamed: 0</th>\n",
       "      <th></th>\n",
       "      <th></th>\n",
       "      <th></th>\n",
       "      <th></th>\n",
       "      <th></th>\n",
       "      <th></th>\n",
       "      <th></th>\n",
       "      <th></th>\n",
       "      <th></th>\n",
       "      <th></th>\n",
       "      <th></th>\n",
       "      <th></th>\n",
       "      <th></th>\n",
       "      <th></th>\n",
       "      <th></th>\n",
       "      <th></th>\n",
       "      <th></th>\n",
       "      <th></th>\n",
       "      <th></th>\n",
       "      <th></th>\n",
       "      <th></th>\n",
       "    </tr>\n",
       "  </thead>\n",
       "  <tbody>\n",
       "    <tr>\n",
       "      <th>MODE_Mode</th>\n",
       "      <td>NaN</td>\n",
       "      <td>0.0</td>\n",
       "      <td>0.0</td>\n",
       "      <td>1.0</td>\n",
       "      <td>0.0</td>\n",
       "      <td>1.0</td>\n",
       "      <td>2.0</td>\n",
       "      <td>1.0</td>\n",
       "      <td>1.0</td>\n",
       "      <td>NaN</td>\n",
       "      <td>...</td>\n",
       "      <td>NaN</td>\n",
       "      <td>0.0</td>\n",
       "      <td>NaN</td>\n",
       "      <td>0.0</td>\n",
       "      <td>1.0</td>\n",
       "      <td>0.0</td>\n",
       "      <td>NaN</td>\n",
       "      <td>NaN</td>\n",
       "      <td>1.0</td>\n",
       "      <td>NaN</td>\n",
       "    </tr>\n",
       "    <tr>\n",
       "      <th>GPS_GCrs</th>\n",
       "      <td>0.0</td>\n",
       "      <td>NaN</td>\n",
       "      <td>0.0</td>\n",
       "      <td>0.0</td>\n",
       "      <td>0.0</td>\n",
       "      <td>1.0</td>\n",
       "      <td>1.0</td>\n",
       "      <td>0.0</td>\n",
       "      <td>2.0</td>\n",
       "      <td>NaN</td>\n",
       "      <td>...</td>\n",
       "      <td>NaN</td>\n",
       "      <td>0.0</td>\n",
       "      <td>NaN</td>\n",
       "      <td>1.0</td>\n",
       "      <td>0.0</td>\n",
       "      <td>0.0</td>\n",
       "      <td>0.0</td>\n",
       "      <td>0.0</td>\n",
       "      <td>1.0</td>\n",
       "      <td>0.0</td>\n",
       "    </tr>\n",
       "    <tr>\n",
       "      <th>GPS_Alt</th>\n",
       "      <td>1.0</td>\n",
       "      <td>0.0</td>\n",
       "      <td>NaN</td>\n",
       "      <td>1.0</td>\n",
       "      <td>1.0</td>\n",
       "      <td>1.0</td>\n",
       "      <td>2.0</td>\n",
       "      <td>1.0</td>\n",
       "      <td>2.0</td>\n",
       "      <td>NaN</td>\n",
       "      <td>...</td>\n",
       "      <td>NaN</td>\n",
       "      <td>0.0</td>\n",
       "      <td>NaN</td>\n",
       "      <td>0.0</td>\n",
       "      <td>0.0</td>\n",
       "      <td>0.0</td>\n",
       "      <td>0.0</td>\n",
       "      <td>NaN</td>\n",
       "      <td>1.0</td>\n",
       "      <td>NaN</td>\n",
       "    </tr>\n",
       "    <tr>\n",
       "      <th>GPS_NSats</th>\n",
       "      <td>1.0</td>\n",
       "      <td>0.0</td>\n",
       "      <td>1.0</td>\n",
       "      <td>NaN</td>\n",
       "      <td>1.0</td>\n",
       "      <td>1.0</td>\n",
       "      <td>0.0</td>\n",
       "      <td>2.0</td>\n",
       "      <td>1.0</td>\n",
       "      <td>NaN</td>\n",
       "      <td>...</td>\n",
       "      <td>NaN</td>\n",
       "      <td>0.0</td>\n",
       "      <td>NaN</td>\n",
       "      <td>1.0</td>\n",
       "      <td>0.0</td>\n",
       "      <td>0.0</td>\n",
       "      <td>0.0</td>\n",
       "      <td>0.0</td>\n",
       "      <td>0.0</td>\n",
       "      <td>1.0</td>\n",
       "    </tr>\n",
       "    <tr>\n",
       "      <th>GPS_Spd</th>\n",
       "      <td>0.0</td>\n",
       "      <td>0.0</td>\n",
       "      <td>1.0</td>\n",
       "      <td>1.0</td>\n",
       "      <td>NaN</td>\n",
       "      <td>1.0</td>\n",
       "      <td>1.0</td>\n",
       "      <td>1.0</td>\n",
       "      <td>1.0</td>\n",
       "      <td>NaN</td>\n",
       "      <td>...</td>\n",
       "      <td>NaN</td>\n",
       "      <td>0.0</td>\n",
       "      <td>NaN</td>\n",
       "      <td>1.0</td>\n",
       "      <td>0.0</td>\n",
       "      <td>0.0</td>\n",
       "      <td>0.0</td>\n",
       "      <td>0.0</td>\n",
       "      <td>2.0</td>\n",
       "      <td>NaN</td>\n",
       "    </tr>\n",
       "  </tbody>\n",
       "</table>\n",
       "<p>5 rows × 100 columns</p>\n",
       "</div>"
      ],
      "text/plain": [
       "            MODE_Mode  GPS_GCrs  GPS_Alt  GPS_NSats  GPS_Spd  GPS_Lat  \\\n",
       "Unnamed: 0                                                              \n",
       "MODE_Mode         NaN       0.0      0.0        1.0      0.0      1.0   \n",
       "GPS_GCrs          0.0       NaN      0.0        0.0      0.0      1.0   \n",
       "GPS_Alt           1.0       0.0      NaN        1.0      1.0      1.0   \n",
       "GPS_NSats         1.0       0.0      1.0        NaN      1.0      1.0   \n",
       "GPS_Spd           0.0       0.0      1.0        1.0      NaN      1.0   \n",
       "\n",
       "            GPS_Status  GPS_HDop  GPS_Lng  DU32_Id    ...     RAD_RxErrors  \\\n",
       "Unnamed: 0                                            ...                    \n",
       "MODE_Mode          2.0       1.0      1.0      NaN    ...              NaN   \n",
       "GPS_GCrs           1.0       0.0      2.0      NaN    ...              NaN   \n",
       "GPS_Alt            2.0       1.0      2.0      NaN    ...              NaN   \n",
       "GPS_NSats          0.0       2.0      1.0      NaN    ...              NaN   \n",
       "GPS_Spd            1.0       1.0      1.0      NaN    ...              NaN   \n",
       "\n",
       "            RAD_RemNoise  RAD_Fixed  RAD_RSSI  RAD_Noise  RAD_TxBuf  \\\n",
       "Unnamed: 0                                                            \n",
       "MODE_Mode            0.0        NaN       0.0        1.0        0.0   \n",
       "GPS_GCrs             0.0        NaN       1.0        0.0        0.0   \n",
       "GPS_Alt              0.0        NaN       0.0        0.0        0.0   \n",
       "GPS_NSats            0.0        NaN       1.0        0.0        0.0   \n",
       "GPS_Spd              0.0        NaN       1.0        0.0        0.0   \n",
       "\n",
       "            RAD_RemRSSI  IMU_TimeMS  MAG_MagZ  MAG_OfsX  \n",
       "Unnamed: 0                                               \n",
       "MODE_Mode           NaN         NaN       1.0       NaN  \n",
       "GPS_GCrs            0.0         0.0       1.0       0.0  \n",
       "GPS_Alt             0.0         NaN       1.0       NaN  \n",
       "GPS_NSats           0.0         0.0       0.0       1.0  \n",
       "GPS_Spd             0.0         0.0       2.0       NaN  \n",
       "\n",
       "[5 rows x 100 columns]"
      ]
     },
     "execution_count": 4,
     "metadata": {},
     "output_type": "execute_result"
    }
   ],
   "source": [
    "df.head()"
   ]
  },
  {
   "cell_type": "code",
   "execution_count": 11,
   "metadata": {},
   "outputs": [
    {
     "data": {
      "image/png": "[encoded data removed]",
      "text/plain": [
       "<Figure size 432x288 with 1 Axes>"
      ]
     },
     "metadata": {},
     "output_type": "display_data"
    }
   ],
   "source": [
    "DG = nx.DiGraph()\n",
    "DG.add_nodes_from(df.columns)\n",
    "all_nodes = []\n",
    "l_visited = []\n",
    "for idx in df.index:  \n",
    "    ltuples = [(idx,cl) for cl in df.columns[df.loc[idx] == 1] if idx != cl and (idx,cl) not in all_nodes]\n",
    "    ltuples_bi = [(idx,cl) for cl in df.columns[df.loc[idx] == 2 ] if cl != idx and (idx,cl) not in all_nodes]\n",
    "    l_visited = [(cl,idx) for cl in df.columns[df.loc[idx] == 1] if idx != cl]\n",
    "    all_nodes += l_visited\n",
    "    DG.add_edges_from(ltuples)\n",
    "    DG.add_edges_from(ltuples_bi)\n",
    "    ltuples = []\n",
    "    ltuples_bi =[]\n",
    "\n",
    "#save_as_pickle(DG,'../stats_files','directed_networkx_graph.pickle') #saving the graph to be used later for analysis\n",
    "#create tuples\n",
    "#pos = nx.spring_layout(DG,k=1,iterations=50)\n",
    "# plt.figure(figsize=(20,10))\n",
    "# nx.draw(DG,with_labels=True,font_size=9,pos=pos)\n",
    "# plt.draw()\n",
    "# plt.show()\n",
    "\n",
    "nds= []\n",
    "for n in DG.nodes:\n",
    "    if 'RCIN' in n:\n",
    "        nds.append(n)\n",
    "H = DG.subgraph(nds+['ATT_Yaw','ATT_Pitch','ATT_Roll'])\n",
    "pos = nx.spring_layout(H,k=4,iterations=40)\n",
    "nx.draw(H,with_labels=True,font_size=9,pos=pos)\n",
    "plt.draw()\n",
    "plt.show()"
   ]
  },
  {
   "cell_type": "code",
   "execution_count": 6,
   "metadata": {},
   "outputs": [
    {
     "name": "stdout",
     "output_type": "stream",
     "text": [
      "['RCIN_C1', 'RCIN_C5', 'RCIN_C11', 'RCIN_C7', 'RCIN_C10', 'RCIN_C3', 'RCIN_C12', 'RCIN_C8', 'RCIN_C9', 'RCIN_C6', 'RCIN_C4', 'RCIN_C2', 'ATT_YAW']\n"
     ]
    }
   ],
   "source": [
    "print(nds+['ATT_YAW'])"
   ]
  },
  {
   "cell_type": "code",
   "execution_count": null,
   "metadata": {},
   "outputs": [],
   "source": [
    "all_nodes"
   ]
  },
  {
   "cell_type": "code",
   "execution_count": null,
   "metadata": {},
   "outputs": [],
   "source": [
    "nds = dg.neighbors('CTUN_ThrOut')\n",
    "# for n in dg.nodes:\n",
    "#     if 'Alt' in n:\n",
    "#         nds.append(n)\n",
    "# print(nds)\n",
    "nds = [cl for cl in df.columns[df.loc['CTUN_ThrOut'] == 1]]\n",
    "dg = load_pickle('../stats_files','directed_networkx_graph.pickle')\n",
    "pos = nx.spring_layout(dg,k=2,iterations=10)\n",
    "plt.figure(figsize=(20,10))\n",
    "nx.draw(dg,with_labels=True,font_size=9,pos=pos)\n",
    "plt.draw()\n",
    "plt.show()"
   ]
  },
  {
   "cell_type": "code",
   "execution_count": null,
   "metadata": {},
   "outputs": [],
   "source": []
  },
  {
   "cell_type": "code",
   "execution_count": null,
   "metadata": {},
   "outputs": [],
   "source": [
    "df.loc['RCIN_C1','CTUN_ThrOut']"
   ]
  },
  {
   "cell_type": "code",
   "execution_count": null,
   "metadata": {},
   "outputs": [],
   "source": []
  },
  {
   "cell_type": "code",
   "execution_count": null,
   "metadata": {},
   "outputs": [],
   "source": []
  },
  {
   "cell_type": "code",
   "execution_count": null,
   "metadata": {},
   "outputs": [],
   "source": []
  },
  {
   "cell_type": "code",
   "execution_count": null,
   "metadata": {},
   "outputs": [],
   "source": [
    "ltuples"
   ]
  },
  {
   "cell_type": "code",
   "execution_count": null,
   "metadata": {},
   "outputs": [],
   "source": [
    "stat_in_out = []\n",
    "for c in df.columns:\n",
    "    outgoing_count = len(DG.out_edges(c))\n",
    "    incoming_count = len(DG.in_edges(c))\n",
    "    stat_in_out.append((c,incoming_count,outgoing_count))\n",
    "df_inout = pd.DataFrame(stat_in_out,columns=['signal','incoming','outgoing'])"
   ]
  },
  {
   "cell_type": "code",
   "execution_count": null,
   "metadata": {},
   "outputs": [],
   "source": [
    "plt.figure(figsize=(20,15))\n",
    "g = sns.barplot(x='signal',y='incoming',data=df_inout.sort_values('incoming',ascending=False))\n",
    "g.set_xticklabels(labels=df_inout.sort_values('incoming',ascending=False).signal,rotation=90)\n",
    "plt.ylabel('Incoming Causes') \n",
    "plt.show()\n",
    "figure = g.get_figure()  \n",
    "figure.savefig('../report/incoming_causation.png', dpi=500)"
   ]
  },
  {
   "cell_type": "code",
   "execution_count": null,
   "metadata": {},
   "outputs": [],
   "source": [
    "plt.figure(figsize=(20,15))\n",
    "g = sns.barplot(x='signal',y='outgoing',data=df_inout.sort_values('outgoing',ascending=False))\n",
    "g.set_xticklabels(labels=df_inout.sort_values('outgoing',ascending=False).signal,rotation=90)\n",
    "plt.ylabel('Outgoing Causes')\n",
    "plt.show()\n",
    "figure = g.get_figure()  \n",
    "figure.savefig('../report/outgoing_causation.png', dpi=500)"
   ]
  },
  {
   "cell_type": "code",
   "execution_count": null,
   "metadata": {},
   "outputs": [],
   "source": [
    "df_inout.to_csv('../stats_files/causation_in_out_data.csv')"
   ]
  },
  {
   "cell_type": "markdown",
   "metadata": {},
   "source": [
    "# Time Analysis"
   ]
  },
  {
   "cell_type": "code",
   "execution_count": null,
   "metadata": {},
   "outputs": [],
   "source": [
    "tm = pd.read_csv(path+'causality_time_statistics.csv')\n",
    "tm = tm.sort_values('size MB',ascending=True).reset_index().drop(tm.columns[:2],axis=1)"
   ]
  },
  {
   "cell_type": "code",
   "execution_count": null,
   "metadata": {},
   "outputs": [],
   "source": [
    "tm.loc[len(tm)] = ('58c3e69a03d9b00f21696b11.log', 50.516817, 1349.1730382442474)"
   ]
  },
  {
   "cell_type": "code",
   "execution_count": null,
   "metadata": {},
   "outputs": [],
   "source": [
    "plt.figure(figsize=(12,6))\n",
    "sns.lineplot(y='duration s',x='size MB',data=tm)\n",
    "plt.ylabel('Seconds')\n",
    "plt.xlabel('MB')\n",
    "plt.title('Top 100 Causality Time Statistic')\n",
    "plt.show()"
   ]
  },
  {
   "cell_type": "code",
   "execution_count": null,
   "metadata": {},
   "outputs": [],
   "source": []
  }
 ],
 "metadata": {
  "kernelspec": {
   "display_name": "Python 3",
   "language": "python",
   "name": "python3"
  },
  "language_info": {
   "codemirror_mode": {
    "name": "ipython",
    "version": 3
   },
   "file_extension": ".py",
   "mimetype": "text/x-python",
   "name": "python",
   "nbconvert_exporter": "python",
   "pygments_lexer": "ipython3",
   "version": "3.6.5"
  }
 },
 "nbformat": 4,
 "nbformat_minor": 2
}
