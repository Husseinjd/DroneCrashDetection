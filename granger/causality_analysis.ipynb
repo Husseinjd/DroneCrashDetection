{
 "cells": [
  {
   "cell_type": "code",
   "execution_count": 12,
   "metadata": {},
   "outputs": [
    {
     "name": "stdout",
     "output_type": "stream",
     "text": [
      "The autoreload extension is already loaded. To reload it, use:\n",
      "  %reload_ext autoreload\n"
     ]
    }
   ],
   "source": [
    "import pandas as pd\n",
    "import numpy as np\n",
    "import os\n",
    "import pickle\n",
    "import sys\n",
    "from sklearn.neighbors import KNeighborsClassifier  \n",
    "import matplotlib.pyplot as plt\n",
    "from sklearn import  preprocessing\n",
    "import networkx as nx\n",
    "module_path = os.path.abspath(os.path.join('..'))\n",
    "if module_path not in sys.path:\n",
    "    sys.path.append(module_path)\n",
    "%load_ext autoreload\n",
    "%autoreload 2\n",
    "from sklearn.tree import DecisionTreeClassifier\n",
    "import time\n",
    "from db.database import DatabaseConnector\n",
    "from dtloader.dataloader import DataLoader\n",
    "from sklearn.model_selection import cross_val_score\n",
    "from statsmodels.tsa.stattools import grangercausalitytests\n",
    "module_path = os.path.abspath(os.path.join('..'))\n",
    "if module_path not in sys.path:\n",
    "    sys.path.append(module_path)\n",
    "from utils.utils import *\n",
    "import seaborn as sns\n",
    "from granger.grangercausality_reg import GrangerCausalityTest\n",
    "from granger.grangercausality_cl import GrangerCausalityDiscrete\n",
    "from segmentation.segmentation import *\n",
    "from statsmodels.tsa.stattools import adfuller\n",
    "from statsmodels.tsa.tsatools import lagmat2ds\n",
    "import statsmodels.api as sm\n",
    "from statsmodels.tools.tools import add_constant\n",
    "from utils.features_eng import *\n",
    "from scipy import stats\n",
    "from sklearn.model_selection import cross_val_score\n",
    "from statsmodels.tsa.stattools import grangercausalitytests\n",
    "from causality_utils import *\n",
    "import warnings\n",
    "warnings.filterwarnings('ignore')"
   ]
  },
  {
   "cell_type": "code",
   "execution_count": 15,
   "metadata": {},
   "outputs": [
    {
     "name": "stdout",
     "output_type": "stream",
     "text": [
      "mongodb://localhost:27017/\n",
      "Database connected\n"
     ]
    }
   ],
   "source": [
    "#connecting to the database \n",
    "dl = DataLoader()\n",
    "dl.load('../sample_testing/sample2.log')\n",
    "dl.extractinfo(export=False,single_file=False)"
   ]
  },
  {
   "cell_type": "code",
   "execution_count": null,
   "metadata": {},
   "outputs": [],
   "source": [
    "#dl.dbconnector.query_str('sample2')"
   ]
  },
  {
   "cell_type": "code",
   "execution_count": null,
   "metadata": {},
   "outputs": [],
   "source": [
    "pd.DataFrame(dl.dbconnector.query('CTUN_sample_testing/sample2')).head()"
   ]
  },
  {
   "cell_type": "markdown",
   "metadata": {},
   "source": [
    "# Sample analysis and testing\n",
    "### X Causes Z"
   ]
  },
  {
   "cell_type": "code",
   "execution_count": 13,
   "metadata": {},
   "outputs": [],
   "source": [
    "x = 'CTUN_ThrOut'\n",
    "y = 'RCIN_C2'\n",
    "z = 'ATT_Yaw'\n",
    "#5779b87af6909000298709e9\n",
    "filename = '5779b87af6909000298709e9'\n",
    "lag = 30\n",
    "cv = 8"
   ]
  },
  {
   "cell_type": "code",
   "execution_count": 19,
   "metadata": {
    "scrolled": false
   },
   "outputs": [
    {
     "name": "stdout",
     "output_type": "stream",
     "text": [
      "Mean Across Full Classifiers :  0.6513534243426287\n",
      "Mean Across Reduced Classifiers :  0.6428408280431233\n"
     ]
    },
    {
     "data": {
      "text/html": [
       "<div>\n",
       "<style scoped>\n",
       "    .dataframe tbody tr th:only-of-type {\n",
       "        vertical-align: middle;\n",
       "    }\n",
       "\n",
       "    .dataframe tbody tr th {\n",
       "        vertical-align: top;\n",
       "    }\n",
       "\n",
       "    .dataframe thead th {\n",
       "        text-align: right;\n",
       "    }\n",
       "</style>\n",
       "<table border=\"1\" class=\"dataframe\">\n",
       "  <thead>\n",
       "    <tr style=\"text-align: right;\">\n",
       "      <th></th>\n",
       "      <th>Mean-Acc-Full</th>\n",
       "      <th>Mean-Acc-Reduced</th>\n",
       "      <th>P-Value</th>\n",
       "    </tr>\n",
       "  </thead>\n",
       "  <tbody>\n",
       "    <tr>\n",
       "      <th>nb</th>\n",
       "      <td>0.585390</td>\n",
       "      <td>0.778404</td>\n",
       "      <td>0.204168</td>\n",
       "    </tr>\n",
       "    <tr>\n",
       "      <th>dt</th>\n",
       "      <td>0.458184</td>\n",
       "      <td>0.447043</td>\n",
       "      <td>0.943118</td>\n",
       "    </tr>\n",
       "    <tr>\n",
       "      <th>knn</th>\n",
       "      <td>0.647912</td>\n",
       "      <td>0.432419</td>\n",
       "      <td>0.128449</td>\n",
       "    </tr>\n",
       "    <tr>\n",
       "      <th>lr</th>\n",
       "      <td>0.913928</td>\n",
       "      <td>0.913498</td>\n",
       "      <td>0.948551</td>\n",
       "    </tr>\n",
       "  </tbody>\n",
       "</table>\n",
       "</div>"
      ],
      "text/plain": [
       "     Mean-Acc-Full  Mean-Acc-Reduced   P-Value\n",
       "nb        0.585390          0.778404  0.204168\n",
       "dt        0.458184          0.447043  0.943118\n",
       "knn       0.647912          0.432419  0.128449\n",
       "lr        0.913928          0.913498  0.948551"
      ]
     },
     "execution_count": 19,
     "metadata": {},
     "output_type": "execute_result"
    }
   ],
   "source": [
    "mean_acc_full_list = []\n",
    "mean_acc_red_list = []\n",
    "p_value_list = []\n",
    "\n",
    "dft_x, dft_y, dataset_x, dataset_y, dataset_z, dataset_combined_xz, dataset_combined_yz, target_x, target_y = causality_cls_preprocess(x,y,z\n",
    ",filename, lag,dl)\n",
    "\n",
    "comp_y, va_y = signal_comp_va(y)\n",
    "comp_z, va_z = signal_comp_va(z)\n",
    "comp_x, va_x = signal_comp_va(x)\n",
    "\n",
    "dict_cls =  test_causality(dft_x,comp_x,va_x,dataset_z,dataset_combined_xz,comp_z,va_z,target_x,cv=cv)\n",
    "resdf = pd.DataFrame(dict_cls).T\n",
    "\n",
    "print('Mean Across Full Classifiers : ',resdf['Mean-Acc-Full'].mean())\n",
    "print('Mean Across Reduced Classifiers : ',resdf['Mean-Acc-Reduced'].mean())\n",
    "resdf"
   ]
  },
  {
   "cell_type": "code",
   "execution_count": null,
   "metadata": {},
   "outputs": [],
   "source": [
    "clf = DecisionTreeClassifier()\n",
    "clf.fit(dataset_combined_xz,target_x)\n",
    "(pd.Series(clf.feature_importances_, index=dataset_combined_xz.columns).plot(kind='barh')) \n",
    "print(clf.feature_importances_)"
   ]
  },
  {
   "cell_type": "markdown",
   "metadata": {},
   "source": [
    "# Y Causes Z"
   ]
  },
  {
   "cell_type": "code",
   "execution_count": null,
   "metadata": {},
   "outputs": [],
   "source": [
    "dict_cls =  test_causality(dft_y,comp_y,va_y,dataset_z,dataset_combined_yz,comp_z,va_z,target_y,cv=cv)\n",
    "resdf = pd.DataFrame(dict_cls).T\n",
    "print('Mean Across Full Classifiers : ',resdf['Mean-Acc-Full'].mean())\n",
    "print('Mean Across Reduced Classifiers : ',resdf['Mean-Acc-Reduced'].mean())\n",
    "resdf"
   ]
  },
  {
   "cell_type": "markdown",
   "metadata": {},
   "source": [
    "### ---------------------------------------------------------------------------------------------------------------------------------------------------------------\n",
    "# Aggergated Across Logs Files"
   ]
  },
  {
   "cell_type": "code",
   "execution_count": 10,
   "metadata": {},
   "outputs": [
    {
     "ename": "NameError",
     "evalue": "name 'signal_comp_va' is not defined",
     "output_type": "error",
     "traceback": [
      "\u001b[1;31m---------------------------------------------------------------------------\u001b[0m",
      "\u001b[1;31mNameError\u001b[0m                                 Traceback (most recent call last)",
      "\u001b[1;32m<ipython-input-10-871c55e3cee1>\u001b[0m in \u001b[0;36m<module>\u001b[1;34m()\u001b[0m\n\u001b[0;32m      2\u001b[0m \u001b[0mlag\u001b[0m \u001b[1;33m=\u001b[0m \u001b[1;36m30\u001b[0m\u001b[1;33m\u001b[0m\u001b[0m\n\u001b[0;32m      3\u001b[0m \u001b[0mcv\u001b[0m \u001b[1;33m=\u001b[0m \u001b[1;36m8\u001b[0m\u001b[1;33m\u001b[0m\u001b[0m\n\u001b[1;32m----> 4\u001b[1;33m \u001b[0mcomp_y\u001b[0m\u001b[1;33m,\u001b[0m \u001b[0mva_y\u001b[0m \u001b[1;33m=\u001b[0m \u001b[0msignal_comp_va\u001b[0m\u001b[1;33m(\u001b[0m\u001b[0my\u001b[0m\u001b[1;33m)\u001b[0m\u001b[1;33m\u001b[0m\u001b[0m\n\u001b[0m\u001b[0;32m      5\u001b[0m \u001b[0mcomp_z\u001b[0m\u001b[1;33m,\u001b[0m \u001b[0mva_z\u001b[0m \u001b[1;33m=\u001b[0m \u001b[0msignal_comp_va\u001b[0m\u001b[1;33m(\u001b[0m\u001b[0mz\u001b[0m\u001b[1;33m)\u001b[0m\u001b[1;33m\u001b[0m\u001b[0m\n\u001b[0;32m      6\u001b[0m \u001b[0mcomp_x\u001b[0m\u001b[1;33m,\u001b[0m \u001b[0mva_x\u001b[0m \u001b[1;33m=\u001b[0m \u001b[0msignal_comp_va\u001b[0m\u001b[1;33m(\u001b[0m\u001b[0mx\u001b[0m\u001b[1;33m)\u001b[0m\u001b[1;33m\u001b[0m\u001b[0m\n",
      "\u001b[1;31mNameError\u001b[0m: name 'signal_comp_va' is not defined"
     ]
    }
   ],
   "source": [
    "datalist =os.listdir('../data')\n",
    "lag = 30\n",
    "cv = 8\n",
    "comp_y, va_y = signal_comp_va(y)\n",
    "comp_z, va_z = signal_comp_va(z)\n",
    "comp_x, va_x = signal_comp_va(x)\n",
    "lag_list = [25,40,55,75]"
   ]
  },
  {
   "cell_type": "code",
   "execution_count": 7,
   "metadata": {},
   "outputs": [
    {
     "ename": "NameError",
     "evalue": "name 'datalist' is not defined",
     "output_type": "error",
     "traceback": [
      "\u001b[1;31m---------------------------------------------------------------------------\u001b[0m",
      "\u001b[1;31mNameError\u001b[0m                                 Traceback (most recent call last)",
      "\u001b[1;32m<ipython-input-7-6e1eadc41790>\u001b[0m in \u001b[0;36m<module>\u001b[1;34m()\u001b[0m\n\u001b[1;32m----> 1\u001b[1;33m \u001b[0mnp\u001b[0m\u001b[1;33m.\u001b[0m\u001b[0mrandom\u001b[0m\u001b[1;33m.\u001b[0m\u001b[0mchoice\u001b[0m\u001b[1;33m(\u001b[0m\u001b[0mdatalist\u001b[0m\u001b[1;33m,\u001b[0m \u001b[1;36m5\u001b[0m\u001b[1;33m,\u001b[0m\u001b[0mreplace\u001b[0m\u001b[1;33m=\u001b[0m\u001b[1;32mFalse\u001b[0m\u001b[1;33m)\u001b[0m\u001b[1;33m\u001b[0m\u001b[0m\n\u001b[0m",
      "\u001b[1;31mNameError\u001b[0m: name 'datalist' is not defined"
     ]
    }
   ],
   "source": [
    "np.random.choice(datalist, 5,replace=False)"
   ]
  },
  {
   "cell_type": "code",
   "execution_count": null,
   "metadata": {
    "scrolled": true
   },
   "outputs": [],
   "source": [
    "\n",
    "dict_files = {} \n",
    "for i,log in enumerate(datalist):\n",
    "        print('File:{} --  {} / {}'.format(log,i,len(datalist)-1))\n",
    "        dft_x, dft_y, dataset_x, dataset_y, dataset_z, dataset_combined_xz, dataset_combined_yz, target_x, target_y = causality_cls_preprocess(x,y,z\n",
    "        ,log[:-4], lags)\n",
    "        if isinstance(dft_x,int):\n",
    "            print('One of the signals not found in file.')\n",
    "            continue\n",
    "\n",
    "        #added for fruther analysis and affects performance\n",
    "        sr_x = dl.dbconnector.query(comp_x+'_' + log[:-4],va_x)\n",
    "        sr_z = dl.dbconnector.query(comp_z+'_' + log[:-4],va_z)\n",
    "\n",
    "        try:\n",
    "            dict_cls =  test_causality(dft_x,comp_x,va_x,dataset_z,dataset_combined_xz,comp_z,va_z,target_x,cv=cv)\n",
    "        except:\n",
    "            continue\n",
    "        resdf = pd.DataFrame(dict_cls).T\n",
    "        dict_files[log[:-4]] = { 'mean_full_acc' :resdf['Mean-Acc-Full'].mean() , 'mean_red_acc':resdf['Mean-Acc-Reduced'].mean() ,\n",
    "                                'pvalue_dt':resdf.loc['dt']['P-Value'] ,'pvalue_knn':resdf.loc['knn']['P-Value']\n",
    "                                'Mean '+comp_x+'_'+va_x: np.mean(sr_x),'Mean '+comp_z+'_'+va_z: np.mean(sr_z)}\n",
    "        "
   ]
  },
  {
   "cell_type": "code",
   "execution_count": null,
   "metadata": {},
   "outputs": [],
   "source": [
    "dt_seg = dict_acc_lags.copy()\n",
    "save_as_pickle(dt_seg,'pickle','dt_means.pickle')"
   ]
  },
  {
   "cell_type": "code",
   "execution_count": null,
   "metadata": {},
   "outputs": [],
   "source": [
    "dt_seg = load_pickle('pickle','dt_means.pickle')"
   ]
  },
  {
   "cell_type": "code",
   "execution_count": null,
   "metadata": {},
   "outputs": [],
   "source": [
    "df = pd.DataFrame(dt_seg[40]).T\n",
    "df.head()"
   ]
  },
  {
   "cell_type": "code",
   "execution_count": null,
   "metadata": {},
   "outputs": [],
   "source": [
    "sig_perc_list = []\n",
    "for key,val in dt_seg.items():\n",
    "    print('Lags : ', key)\n",
    "    df = pd.DataFrame(dt_seg[key]).T\n",
    "    print('Percentage Significant ', len(df.loc[df.pvalue <= 0.05])  / len(df))\n",
    "    sig_perc_list.append((len(df.loc[df.pvalue <= 0.05])*100) / len(df))\n",
    "sns.barplot(x=lag_list,y=sig_perc_list)\n",
    "plt.xlabel('Lags')\n",
    "plt.ylabel('Percentage Siginficant')\n",
    "plt.show()\n",
    "print('Total File Number',len((df)))"
   ]
  },
  {
   "cell_type": "code",
   "execution_count": null,
   "metadata": {},
   "outputs": [],
   "source": []
  },
  {
   "cell_type": "markdown",
   "metadata": {},
   "source": [
    "# Significant Files"
   ]
  },
  {
   "cell_type": "code",
   "execution_count": null,
   "metadata": {},
   "outputs": [],
   "source": [
    "df = pd.DataFrame(dt_seg[40]).T"
   ]
  },
  {
   "cell_type": "code",
   "execution_count": null,
   "metadata": {},
   "outputs": [],
   "source": [
    "df_sig = df.loc[df.pvalue <= 0.05]#[['Mean BARO_Alt','Mean RCIN_C3']]\n",
    "#.plot(kind='kde',figsize=(12,9))\n",
    "df_non_sig = df.loc[df.pvalue > 0.05]"
   ]
  },
  {
   "cell_type": "code",
   "execution_count": null,
   "metadata": {},
   "outputs": [],
   "source": [
    "comb = pd.DataFrame({'sig':df_sig['Mean BARO_Alt'],'non-sig':df_non_sig['Mean BARO_Alt']})"
   ]
  },
  {
   "cell_type": "code",
   "execution_count": null,
   "metadata": {},
   "outputs": [],
   "source": [
    "plt.figure(figsize=(12,9))\n",
    "sns.kdeplot(df_non_sig['Mean BARO_Alt'].sample(frac=0.3),label='Mean Non-Sig')\n",
    "sns.kdeplot(df_sig['Mean BARO_Alt'],label='Mean Sig')\n",
    "plt.title('Significant files : Mean BARO_Alt')\n",
    "plt.xlabel('Mean')\n",
    "plt.ylabel('Prob')"
   ]
  },
  {
   "cell_type": "code",
   "execution_count": null,
   "metadata": {},
   "outputs": [],
   "source": [
    "df.loc[df.pvalue <= 0.05,['mean_full_acc','mean_red_acc']].plot(figsize=(12,9))\n",
    "plt.title('Significant pvalues logs: Mean Acc vs logs')\n",
    "plt.xlabel('logs')\n",
    "plt.ylabel('Mean Acc')"
   ]
  },
  {
   "cell_type": "code",
   "execution_count": null,
   "metadata": {},
   "outputs": [],
   "source": [
    "df.loc[df.pvalue > 0.05,['mean_full_acc','mean_red_acc']].sample(frac=0.5, random_state=1).plot(figsize=(12,9))\n",
    "plt.title('Non-Significant pvalues logs: Mean Acc vs logs')\n",
    "plt.xlabel('logs')\n",
    "plt.ylabel('Mean Acc')"
   ]
  },
  {
   "cell_type": "code",
   "execution_count": null,
   "metadata": {},
   "outputs": [],
   "source": [
    "plt.figure(figsize=(12,9))\n",
    "sns.kdeplot(df_non_sig['Mean RCIN_C3'].sample(frac=0.5),label='Mean Non-Sig')\n",
    "sns.kdeplot(df_sig['Mean RCIN_C3'],label='Mean Sig')\n",
    "plt.title('Mean RCIN_C3 dist')\n",
    "plt.xlabel('Mean')\n",
    "plt.ylabel('Prob')"
   ]
  },
  {
   "cell_type": "code",
   "execution_count": null,
   "metadata": {},
   "outputs": [],
   "source": []
  },
  {
   "cell_type": "code",
   "execution_count": null,
   "metadata": {},
   "outputs": [],
   "source": []
  }
 ],
 "metadata": {
  "kernelspec": {
   "display_name": "Python 3",
   "language": "python",
   "name": "python3"
  },
  "language_info": {
   "codemirror_mode": {
    "name": "ipython",
    "version": 3
   },
   "file_extension": ".py",
   "mimetype": "text/x-python",
   "name": "python",
   "nbconvert_exporter": "python",
   "pygments_lexer": "ipython3",
   "version": "3.6.5"
  },
  "varInspector": {
   "cols": {
    "lenName": 16,
    "lenType": 16,
    "lenVar": 40
   },
   "kernels_config": {
    "python": {
     "delete_cmd_postfix": "",
     "delete_cmd_prefix": "del ",
     "library": "var_list.py",
     "varRefreshCmd": "print(var_dic_list())"
    },
    "r": {
     "delete_cmd_postfix": ") ",
     "delete_cmd_prefix": "rm(",
     "library": "var_list.r",
     "varRefreshCmd": "cat(var_dic_list()) "
    }
   },
   "types_to_exclude": [
    "module",
    "function",
    "builtin_function_or_method",
    "instance",
    "_Feature"
   ],
   "window_display": false
  }
 },
 "nbformat": 4,
 "nbformat_minor": 2
}
